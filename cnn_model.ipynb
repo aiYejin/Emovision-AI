{
 "cells": [
  {
   "cell_type": "code",
   "execution_count": 38,
   "metadata": {},
   "outputs": [],
   "source": [
    "import keras\n",
    "from keras.models import Sequential\n",
    "from keras.layers import Conv2D, MaxPooling2D, Dense, Flatten, Dropout\n",
    "from keras.optimizers import Adam\n",
    "from keras.callbacks import TensorBoard\n",
    "\n",
    "import numpy as np\n",
    "import pandas as pd\n",
    "import matplotlib.pyplot as plt\n",
    "from sklearn.model_selection import train_test_split\n",
    "\n",
    "from sklearn.metrics import confusion_matrix\n",
    "from sklearn.metrics import classification_report\n",
    "from sklearn.metrics import roc_curve, auc\n",
    "from sklearn.metrics import accuracy_score\n",
    "from keras.utils import np_utils\n",
    "import itertools\n",
    "\n",
    "import os\n",
    "import cv2\n",
    "\n",
    "import numpy as np"
   ]
  },
  {
   "cell_type": "code",
   "execution_count": 39,
   "metadata": {},
   "outputs": [
    {
     "name": "stdout",
     "output_type": "stream",
     "text": [
      "0 frown\n",
      "1 smile\n",
      "2 neutral\n",
      "3 sad\n",
      "4 Surprised\n"
     ]
    }
   ],
   "source": [
    "path = 'emotion_data' # 데이터셋 경로\n",
    "image_size = 128 # 이미지 크기\n",
    "test_size = 0.15 # test set 비율\n",
    "\n",
    "# 데이터셋 내 폴더들을 리스트로 추출\n",
    "folders = [f for f in os.listdir(path) if os.path.isdir(os.path.join(path, f))]\n",
    "\n",
    "# 각 폴더 내 이미지 파일들을 불러와서 흑백으로 변환하고 라벨링\n",
    "images = []\n",
    "labels = []\n",
    "for i, folder in enumerate(folders):\n",
    "    print(i, folder)\n",
    "    image_names = os.listdir(os.path.join(path, folder))\n",
    "    for image_name in image_names:\n",
    "        image_path = os.path.join(path, folder, image_name)\n",
    "        image = cv2.imread(image_path)\n",
    "        image = cv2.cvtColor(image, cv2.COLOR_BGR2GRAY)\n",
    "        image = cv2.resize(image, (image_size, image_size))\n",
    "        images.append(image)\n",
    "        labels.append(i)\n",
    "\n",
    "# 불러온 이미지와 라벨을 numpy 배열로 변환\n",
    "images = np.array(images)\n",
    "labels = np.array(labels)\n",
    "\n",
    "# train과 test set을 나눔\n",
    "X_train, X_test, y_train, y_test = train_test_split(images, labels, test_size=test_size, random_state=42)"
   ]
  },
  {
   "cell_type": "code",
   "execution_count": 28,
   "metadata": {},
   "outputs": [
    {
     "name": "stdout",
     "output_type": "stream",
     "text": [
      "x_train : (4232, 128, 128)\n",
      "Y-train shape: (4232,)\n",
      "x_test shape: (747, 128, 128)\n"
     ]
    }
   ],
   "source": [
    "# 크기 확인\n",
    "print('x_train : {}'.format(X_train.shape))\n",
    "print('Y-train shape: {}'.format(y_train.shape))\n",
    "print('x_test shape: {}'.format(X_test.shape))"
   ]
  },
  {
   "cell_type": "code",
   "execution_count": 29,
   "metadata": {},
   "outputs": [],
   "source": [
    "# train과 valid 파일 분배배\n",
    "X_train, X_valid, y_train, y_valid= train_test_split(\n",
    "    X_train, y_train, test_size=.1766, random_state=1234,)"
   ]
  },
  {
   "cell_type": "code",
   "execution_count": 40,
   "metadata": {},
   "outputs": [
    {
     "name": "stdout",
     "output_type": "stream",
     "text": [
      "(128, 128, 1)\n",
      "x_train shape: (4232, 128, 128)\n",
      "x_test shape: (748, 128, 128, 1)\n"
     ]
    }
   ],
   "source": [
    "\n",
    "#input size와 shape 확인\n",
    "im_rows=128\n",
    "im_cols=128\n",
    "batch_size=64\n",
    "im_shape=(im_rows, im_cols, 1)\n",
    "print(im_shape)\n",
    "print('x_train shape: {}'.format(X_train.shape))\n",
    "print('x_test shape: {}'.format(X_valid.shape))"
   ]
  },
  {
   "cell_type": "code",
   "execution_count": 31,
   "metadata": {},
   "outputs": [
    {
     "name": "stderr",
     "output_type": "stream",
     "text": [
      "/home/yejin/.local/lib/python3.10/site-packages/keras/optimizers/legacy/adam.py:117: UserWarning: The `lr` argument is deprecated, use `learning_rate` instead.\n",
      "  super().__init__(name, **kwargs)\n"
     ]
    }
   ],
   "source": [
    "#cnn 모델 생성\n",
    "\n",
    "cnn_model= Sequential([\n",
    "    Conv2D(filters=32, kernel_size=9, activation='relu', input_shape=im_shape),\n",
    "    MaxPooling2D(pool_size=2),\n",
    "    Conv2D(filters=256, kernel_size=7, activation='relu'),\n",
    "    MaxPooling2D(pool_size=2),\n",
    "    Conv2D(filters=256, kernel_size=5, activation='relu'),\n",
    "    MaxPooling2D(pool_size=2),\n",
    "    Conv2D(filters=256, kernel_size=3, activation='relu'),\n",
    "    MaxPooling2D(pool_size=2),\n",
    "    Flatten(),\n",
    "    Dense(1024, activation='relu'),\n",
    "    Dropout(0.5),\n",
    "    Dense(1024, activation='relu'),\n",
    "    Dropout(0.5),\n",
    "    Dense(2048, activation='relu'),\n",
    "    Dropout(0.5),\n",
    "    Dense(2048, activation='relu'),\n",
    "    Dropout(0.5),\n",
    "    #20 is the number of outputs\n",
    "    Dense(5, activation='softmax')  \n",
    "])\n",
    "\n",
    "cnn_model.compile(\n",
    "    loss='sparse_categorical_crossentropy',#'categorical_crossentropy',\n",
    "    optimizer=Adam(lr=0.0001),\n",
    "    metrics=['accuracy']\n",
    ")"
   ]
  },
  {
   "cell_type": "code",
   "execution_count": 32,
   "metadata": {},
   "outputs": [
    {
     "name": "stdout",
     "output_type": "stream",
     "text": [
      "Model: \"sequential_4\"\n",
      "_________________________________________________________________\n",
      " Layer (type)                Output Shape              Param #   \n",
      "=================================================================\n",
      " conv2d_140 (Conv2D)         (None, 120, 120, 32)      2624      \n",
      "                                                                 \n",
      " max_pooling2d_5 (MaxPooling  (None, 60, 60, 32)       0         \n",
      " 2D)                                                             \n",
      "                                                                 \n",
      " conv2d_141 (Conv2D)         (None, 54, 54, 256)       401664    \n",
      "                                                                 \n",
      " max_pooling2d_6 (MaxPooling  (None, 27, 27, 256)      0         \n",
      " 2D)                                                             \n",
      "                                                                 \n",
      " conv2d_142 (Conv2D)         (None, 23, 23, 256)       1638656   \n",
      "                                                                 \n",
      " max_pooling2d_7 (MaxPooling  (None, 11, 11, 256)      0         \n",
      " 2D)                                                             \n",
      "                                                                 \n",
      " conv2d_143 (Conv2D)         (None, 9, 9, 256)         590080    \n",
      "                                                                 \n",
      " max_pooling2d_8 (MaxPooling  (None, 4, 4, 256)        0         \n",
      " 2D)                                                             \n",
      "                                                                 \n",
      " flatten_4 (Flatten)         (None, 4096)              0         \n",
      "                                                                 \n",
      " dense_20 (Dense)            (None, 1024)              4195328   \n",
      "                                                                 \n",
      " dropout_16 (Dropout)        (None, 1024)              0         \n",
      "                                                                 \n",
      " dense_21 (Dense)            (None, 1024)              1049600   \n",
      "                                                                 \n",
      " dropout_17 (Dropout)        (None, 1024)              0         \n",
      "                                                                 \n",
      " dense_22 (Dense)            (None, 2048)              2099200   \n",
      "                                                                 \n",
      " dropout_18 (Dropout)        (None, 2048)              0         \n",
      "                                                                 \n",
      " dense_23 (Dense)            (None, 2048)              4196352   \n",
      "                                                                 \n",
      " dropout_19 (Dropout)        (None, 2048)              0         \n",
      "                                                                 \n",
      " dense_24 (Dense)            (None, 5)                 10245     \n",
      "                                                                 \n",
      "=================================================================\n",
      "Total params: 14,183,749\n",
      "Trainable params: 14,183,749\n",
      "Non-trainable params: 0\n",
      "_________________________________________________________________\n"
     ]
    }
   ],
   "source": [
    "cnn_model.summary()"
   ]
  },
  {
   "cell_type": "code",
   "execution_count": 33,
   "metadata": {},
   "outputs": [
    {
     "name": "stdout",
     "output_type": "stream",
     "text": [
      "Epoch 1/250\n",
      "\n",
      "Epoch 1: val_loss improved from inf to 1.60123, saving model to best_emotion_model.h5\n",
      "55/55 - 127s - loss: 1.9500 - accuracy: 0.1989 - val_loss: 1.6012 - val_accuracy: 0.2072 - 127s/epoch - 2s/step\n",
      "Epoch 2/250\n",
      "\n",
      "Epoch 2: val_loss improved from 1.60123 to 1.59261, saving model to best_emotion_model.h5\n",
      "55/55 - 124s - loss: 1.6183 - accuracy: 0.2121 - val_loss: 1.5926 - val_accuracy: 0.2340 - 124s/epoch - 2s/step\n",
      "Epoch 3/250\n",
      "\n",
      "Epoch 3: val_loss improved from 1.59261 to 1.52497, saving model to best_emotion_model.h5\n",
      "55/55 - 124s - loss: 1.5917 - accuracy: 0.2408 - val_loss: 1.5250 - val_accuracy: 0.3583 - 124s/epoch - 2s/step\n",
      "Epoch 4/250\n",
      "\n",
      "Epoch 4: val_loss improved from 1.52497 to 0.94858, saving model to best_emotion_model.h5\n",
      "55/55 - 124s - loss: 1.3456 - accuracy: 0.4061 - val_loss: 0.9486 - val_accuracy: 0.6578 - 124s/epoch - 2s/step\n",
      "Epoch 5/250\n",
      "\n",
      "Epoch 5: val_loss improved from 0.94858 to 0.62141, saving model to best_emotion_model.h5\n",
      "55/55 - 121s - loss: 0.9251 - accuracy: 0.6125 - val_loss: 0.6214 - val_accuracy: 0.8061 - 121s/epoch - 2s/step\n",
      "Epoch 6/250\n",
      "\n",
      "Epoch 6: val_loss improved from 0.62141 to 0.31319, saving model to best_emotion_model.h5\n",
      "55/55 - 122s - loss: 0.5421 - accuracy: 0.7939 - val_loss: 0.3132 - val_accuracy: 0.9051 - 122s/epoch - 2s/step\n",
      "Epoch 7/250\n",
      "\n",
      "Epoch 7: val_loss improved from 0.31319 to 0.21783, saving model to best_emotion_model.h5\n",
      "55/55 - 122s - loss: 0.3018 - accuracy: 0.8964 - val_loss: 0.2178 - val_accuracy: 0.9318 - 122s/epoch - 2s/step\n",
      "Epoch 8/250\n",
      "\n",
      "Epoch 8: val_loss improved from 0.21783 to 0.10572, saving model to best_emotion_model.h5\n",
      "55/55 - 122s - loss: 0.1768 - accuracy: 0.9426 - val_loss: 0.1057 - val_accuracy: 0.9652 - 122s/epoch - 2s/step\n",
      "Epoch 9/250\n",
      "\n",
      "Epoch 9: val_loss did not improve from 0.10572\n",
      "55/55 - 125s - loss: 0.1100 - accuracy: 0.9661 - val_loss: 0.1681 - val_accuracy: 0.9545 - 125s/epoch - 2s/step\n",
      "Epoch 10/250\n",
      "\n",
      "Epoch 10: val_loss improved from 0.10572 to 0.07265, saving model to best_emotion_model.h5\n",
      "55/55 - 126s - loss: 0.0989 - accuracy: 0.9693 - val_loss: 0.0727 - val_accuracy: 0.9733 - 126s/epoch - 2s/step\n",
      "Epoch 11/250\n",
      "\n",
      "Epoch 11: val_loss improved from 0.07265 to 0.04211, saving model to best_emotion_model.h5\n",
      "55/55 - 127s - loss: 0.0473 - accuracy: 0.9851 - val_loss: 0.0421 - val_accuracy: 0.9866 - 127s/epoch - 2s/step\n",
      "Epoch 12/250\n",
      "\n",
      "Epoch 12: val_loss improved from 0.04211 to 0.03966, saving model to best_emotion_model.h5\n",
      "55/55 - 126s - loss: 0.0349 - accuracy: 0.9900 - val_loss: 0.0397 - val_accuracy: 0.9840 - 126s/epoch - 2s/step\n",
      "Epoch 13/250\n",
      "\n",
      "Epoch 13: val_loss did not improve from 0.03966\n",
      "55/55 - 125s - loss: 0.0470 - accuracy: 0.9839 - val_loss: 0.0503 - val_accuracy: 0.9853 - 125s/epoch - 2s/step\n",
      "Epoch 14/250\n",
      "\n",
      "Epoch 14: val_loss improved from 0.03966 to 0.03655, saving model to best_emotion_model.h5\n",
      "55/55 - 122s - loss: 0.0219 - accuracy: 0.9914 - val_loss: 0.0366 - val_accuracy: 0.9906 - 122s/epoch - 2s/step\n",
      "Epoch 15/250\n",
      "\n",
      "Epoch 15: val_loss improved from 0.03655 to 0.02874, saving model to best_emotion_model.h5\n",
      "55/55 - 122s - loss: 0.0288 - accuracy: 0.9897 - val_loss: 0.0287 - val_accuracy: 0.9906 - 122s/epoch - 2s/step\n",
      "Epoch 16/250\n",
      "\n",
      "Epoch 16: val_loss improved from 0.02874 to 0.01418, saving model to best_emotion_model.h5\n",
      "55/55 - 122s - loss: 0.0193 - accuracy: 0.9931 - val_loss: 0.0142 - val_accuracy: 0.9920 - 122s/epoch - 2s/step\n",
      "Epoch 17/250\n",
      "\n",
      "Epoch 17: val_loss did not improve from 0.01418\n",
      "55/55 - 122s - loss: 0.0094 - accuracy: 0.9977 - val_loss: 0.0142 - val_accuracy: 0.9987 - 122s/epoch - 2s/step\n",
      "Epoch 18/250\n",
      "\n",
      "Epoch 18: val_loss did not improve from 0.01418\n",
      "55/55 - 122s - loss: 0.0148 - accuracy: 0.9948 - val_loss: 0.0194 - val_accuracy: 0.9947 - 122s/epoch - 2s/step\n",
      "Epoch 19/250\n",
      "\n",
      "Epoch 19: val_loss did not improve from 0.01418\n",
      "55/55 - 122s - loss: 0.0076 - accuracy: 0.9971 - val_loss: 0.0224 - val_accuracy: 0.9906 - 122s/epoch - 2s/step\n",
      "Epoch 20/250\n",
      "\n",
      "Epoch 20: val_loss did not improve from 0.01418\n",
      "55/55 - 122s - loss: 0.0078 - accuracy: 0.9983 - val_loss: 0.0307 - val_accuracy: 0.9933 - 122s/epoch - 2s/step\n",
      "Epoch 21/250\n",
      "\n",
      "Epoch 21: val_loss did not improve from 0.01418\n",
      "55/55 - 122s - loss: 0.0107 - accuracy: 0.9974 - val_loss: 0.0401 - val_accuracy: 0.9866 - 122s/epoch - 2s/step\n",
      "Epoch 22/250\n",
      "\n",
      "Epoch 22: val_loss did not improve from 0.01418\n",
      "55/55 - 122s - loss: 0.0144 - accuracy: 0.9954 - val_loss: 0.0240 - val_accuracy: 0.9947 - 122s/epoch - 2s/step\n",
      "Epoch 23/250\n",
      "\n",
      "Epoch 23: val_loss did not improve from 0.01418\n",
      "55/55 - 123s - loss: 0.0084 - accuracy: 0.9977 - val_loss: 0.0310 - val_accuracy: 0.9920 - 123s/epoch - 2s/step\n",
      "Epoch 24/250\n",
      "\n",
      "Epoch 24: val_loss did not improve from 0.01418\n",
      "55/55 - 126s - loss: 0.0097 - accuracy: 0.9963 - val_loss: 0.0445 - val_accuracy: 0.9893 - 126s/epoch - 2s/step\n",
      "Epoch 25/250\n",
      "\n",
      "Epoch 25: val_loss did not improve from 0.01418\n",
      "55/55 - 126s - loss: 0.0071 - accuracy: 0.9980 - val_loss: 0.0183 - val_accuracy: 0.9947 - 126s/epoch - 2s/step\n",
      "Epoch 26/250\n",
      "\n",
      "Epoch 26: val_loss did not improve from 0.01418\n",
      "55/55 - 124s - loss: 0.0151 - accuracy: 0.9951 - val_loss: 0.0286 - val_accuracy: 0.9906 - 124s/epoch - 2s/step\n"
     ]
    }
   ],
   "source": [
    "from keras.callbacks import EarlyStopping\n",
    "from keras.callbacks import ModelCheckpoint\n",
    "# val_loss가 epoch 10 이상 오르지 않으면 stop\n",
    "early_stopping = EarlyStopping(monitor='val_loss', patience=10)\n",
    "# 콜백 함수 정의\n",
    "checkpoint = ModelCheckpoint('best_emotion_model.h5', monitor='val_loss', save_best_only=True, mode='min', verbose=1)\n",
    "\n",
    "# 모델 훈련 과정에서 콜백 함수를 사용하여 최고의 성능을 보인 모델을 저장\n",
    "\n",
    "history=cnn_model.fit(\n",
    "    np.array(X_train), np.array(y_train), batch_size=64,\n",
    "    epochs=250, verbose=2,\n",
    "    validation_data=(np.array(X_valid),np.array(y_valid)),\n",
    "    callbacks=[early_stopping, checkpoint]\n",
    ")\n"
   ]
  },
  {
   "cell_type": "code",
   "execution_count": 34,
   "metadata": {},
   "outputs": [
    {
     "name": "stdout",
     "output_type": "stream",
     "text": [
      "test los 0.0312\n",
      "test acc 0.9866\n"
     ]
    }
   ],
   "source": [
    "# test에 대한 loss와 accuracy 확인인\n",
    "scor = cnn_model.evaluate( np.array(X_test),  np.array(y_test), verbose=0)\n",
    "\n",
    "print('test los {:.4f}'.format(scor[0]))\n",
    "print('test acc {:.4f}'.format(scor[1]))"
   ]
  },
  {
   "cell_type": "code",
   "execution_count": 35,
   "metadata": {},
   "outputs": [
    {
     "name": "stdout",
     "output_type": "stream",
     "text": [
      "dict_keys(['loss', 'accuracy', 'val_loss', 'val_accuracy'])\n"
     ]
    },
    {
     "data": {
      "image/png": "[encoded data removed]",
      "text/plain": [
       "<Figure size 640x480 with 1 Axes>"
      ]
     },
     "metadata": {},
     "output_type": "display_data"
    },
    {
     "data": {
      "image/png": "[encoded data removed]",
      "text/plain": [
       "<Figure size 640x480 with 1 Axes>"
      ]
     },
     "metadata": {},
     "output_type": "display_data"
    }
   ],
   "source": [
    "# 히스토리에 있는 키들 출력력\n",
    "print(history.history.keys())\n",
    "# accuracy의 history를 그래프로 보여 줌\n",
    "plt.plot(history.history['accuracy'])\n",
    "plt.plot(history.history['val_accuracy'])\n",
    "plt.title('model accuracy')\n",
    "plt.ylabel('accuracy')\n",
    "plt.xlabel('epoch')\n",
    "plt.legend(['train', 'val'], loc='upper left')\n",
    "plt.show()\n",
    "# loss history를 그래포로 보여 줌\n",
    "plt.plot(history.history['loss'])\n",
    "plt.plot(history.history['val_loss'])\n",
    "plt.title('model loss')\n",
    "plt.ylabel('loss')\n",
    "plt.xlabel('epoch')\n",
    "plt.legend(['train', 'val'], loc='upper left')\n",
    "plt.show()"
   ]
  }
 ],
 "metadata": {
  "kernelspec": {
   "display_name": "base",
   "language": "python",
   "name": "python3"
  },
  "language_info": {
   "codemirror_mode": {
    "name": "ipython",
    "version": 3
   },
   "file_extension": ".py",
   "mimetype": "text/x-python",
   "name": "python",
   "nbconvert_exporter": "python",
   "pygments_lexer": "ipython3",
   "version": "3.10.6"
  },
  "orig_nbformat": 4
 },
 "nbformat": 4,
 "nbformat_minor": 2
}
