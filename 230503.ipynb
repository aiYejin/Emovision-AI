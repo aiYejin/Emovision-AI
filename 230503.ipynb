{
 "cells": [
  {
   "cell_type": "code",
   "execution_count": 1,
   "metadata": {},
   "outputs": [
    {
     "name": "stderr",
     "output_type": "stream",
     "text": [
      "2023-05-10 18:05:35.907487: I tensorflow/core/platform/cpu_feature_guard.cc:182] This TensorFlow binary is optimized to use available CPU instructions in performance-critical operations.\n",
      "To enable the following instructions: AVX2 FMA, in other operations, rebuild TensorFlow with the appropriate compiler flags.\n"
     ]
    }
   ],
   "source": [
    "import keras\n",
    "from keras.models import Sequential\n",
    "from keras.layers import Conv2D, MaxPooling2D, Dense, Flatten, Dropout\n",
    "from keras.optimizers import Adam\n",
    "from keras.callbacks import TensorBoard\n",
    "\n",
    "import numpy as np\n",
    "import pandas as pd\n",
    "import matplotlib.pyplot as plt\n",
    "from sklearn.model_selection import train_test_split\n",
    "\n",
    "from sklearn.metrics import confusion_matrix\n",
    "from sklearn.metrics import classification_report\n",
    "from sklearn.metrics import roc_curve, auc\n",
    "from sklearn.metrics import accuracy_score\n",
    "from keras.utils import np_utils\n",
    "import itertools\n",
    "\n",
    "import os\n",
    "import cv2"
   ]
  },
  {
   "cell_type": "code",
   "execution_count": 2,
   "metadata": {},
   "outputs": [],
   "source": [
    "from PIL import Image\n",
    "import numpy as np\n",
    "\n",
    "# JPEG 이미지를 2차원 numpy 배열로 변환하는 함수\n",
    "def jpg_to_2d_np(jpg_path):\n",
    "    # JPEG 이미지 열기\n",
    "    img = Image.open(jpg_path)\n",
    "\n",
    "    # 이미지를 흑백으로 변환\n",
    "    gray_img = img.convert('L')\n",
    "\n",
    "    # 이미지를 2차원 numpy 배열로 변환\n",
    "    np_img = np.array(gray_img)\n",
    "\n",
    "    return np_img\n"
   ]
  },
  {
   "cell_type": "code",
   "execution_count": 3,
   "metadata": {},
   "outputs": [],
   "source": [
    "path = 'dataset' # 데이터셋 경로\n",
    "image_size = 128 # 이미지 크기\n",
    "test_size = 0.15 # test set 비율\n",
    "\n",
    "# 데이터셋 내 폴더들을 리스트로 추출\n",
    "folders = [f for f in os.listdir(path) if os.path.isdir(os.path.join(path, f))]\n",
    "\n",
    "# 각 폴더 내 이미지 파일들을 불러와서 흑백으로 변환하고 라벨링\n",
    "images = []\n",
    "labels = []\n",
    "for i, folder in enumerate(folders):\n",
    "    image_names = os.listdir(os.path.join(path, folder))\n",
    "    for image_name in image_names:\n",
    "        image_path = os.path.join(path, folder, image_name)\n",
    "        image = cv2.imread(image_path)\n",
    "        image = cv2.cvtColor(image, cv2.COLOR_BGR2GRAY)\n",
    "        image = cv2.resize(image, (image_size, image_size))\n",
    "        images.append(image)\n",
    "        labels.append(i)\n",
    "\n",
    "# 불러온 이미지와 라벨을 numpy 배열로 변환\n",
    "images = np.array(images)\n",
    "labels = np.array(labels)\n",
    "\n",
    "# train과 test set을 나눔\n",
    "X_train, X_test, y_train, y_test = train_test_split(images, labels, test_size=test_size, random_state=42)"
   ]
  },
  {
   "cell_type": "code",
   "execution_count": 4,
   "metadata": {},
   "outputs": [
    {
     "name": "stdout",
     "output_type": "stream",
     "text": [
      "x_train : (3339, 128, 128)\n",
      "Y-train shape: (3339,)\n",
      "x_test shape: (590, 128, 128)\n"
     ]
    }
   ],
   "source": [
    "# #load dataset\n",
    "# data = np.load('230503_data.npz') \n",
    "\n",
    "# # load the \"Train Images\"\n",
    "# x_train = data['trainX']\n",
    "# #normalize every image\n",
    "# x_train = np.array(x_train,dtype='float32')/255\n",
    "\n",
    "# x_test = data['testX']\n",
    "# x_test = np.array(x_test,dtype='float32')/255\n",
    "\n",
    "# # load the Label of Images\n",
    "# y_train= data['trainY']\n",
    "# y_test= data['testY']\n",
    "\n",
    "# show the train and test Data format\n",
    "print('x_train : {}'.format(X_train.shape))\n",
    "print('Y-train shape: {}'.format(y_train.shape))\n",
    "print('x_test shape: {}'.format(X_test.shape))"
   ]
  },
  {
   "cell_type": "code",
   "execution_count": 5,
   "metadata": {},
   "outputs": [],
   "source": [
    "X_train, X_valid, y_train, y_valid= train_test_split(\n",
    "    X_train, y_train, test_size=.1766, random_state=1234,)\n"
   ]
  },
  {
   "cell_type": "code",
   "execution_count": 6,
   "metadata": {},
   "outputs": [
    {
     "name": "stdout",
     "output_type": "stream",
     "text": [
      "(128, 128, 1)\n",
      "x_train shape: (2749, 128, 128, 1)\n",
      "x_test shape: (590, 128, 128, 1)\n"
     ]
    }
   ],
   "source": [
    "im_rows=128\n",
    "im_cols=128\n",
    "batch_size=128\n",
    "im_shape=(im_rows, im_cols, 1)\n",
    "print(im_shape)\n",
    "#change the size of images\n",
    "X_train = X_train.reshape(X_train.shape[0], *im_shape)\n",
    "X_test = X_test.reshape(X_test.shape[0], *im_shape)\n",
    "X_valid = X_valid.reshape(X_valid.shape[0], *im_shape)\n",
    "\n",
    "print('x_train shape: {}'.format(X_train.shape))\n",
    "print('x_test shape: {}'.format(X_valid.shape))"
   ]
  },
  {
   "cell_type": "code",
   "execution_count": 7,
   "metadata": {},
   "outputs": [
    {
     "name": "stderr",
     "output_type": "stream",
     "text": [
      "/home/yejin/.local/lib/python3.10/site-packages/keras/optimizers/legacy/adam.py:117: UserWarning: The `lr` argument is deprecated, use `learning_rate` instead.\n",
      "  super().__init__(name, **kwargs)\n"
     ]
    }
   ],
   "source": [
    "#filters= the depth of output image or kernels\n",
    "\n",
    "cnn_model= Sequential([\n",
    "    Conv2D(filters=72, kernel_size=7, activation='relu', input_shape=im_shape),\n",
    "    MaxPooling2D(pool_size=2),\n",
    "    Conv2D(filters=72, kernel_size=5, activation='relu'),\n",
    "    MaxPooling2D(pool_size=2),\n",
    "    Conv2D(filters=72, kernel_size=3, activation='relu'),\n",
    "    MaxPooling2D(pool_size=2),\n",
    "    Flatten(),\n",
    "    Dense(1024, activation='relu'),\n",
    "    Dropout(0.5),\n",
    "    Dense(1024, activation='relu'),\n",
    "    Dropout(0.5),\n",
    "    Dense(2048, activation='relu'),\n",
    "    Dropout(0.5),\n",
    "    #20 is the number of outputs\n",
    "    Dense(4, activation='softmax')  \n",
    "])\n",
    "\n",
    "cnn_model.compile(\n",
    "    loss='sparse_categorical_crossentropy',#'categorical_crossentropy',\n",
    "    optimizer=Adam(lr=0.0001),\n",
    "    metrics=['accuracy']\n",
    ")"
   ]
  },
  {
   "cell_type": "code",
   "execution_count": 8,
   "metadata": {},
   "outputs": [
    {
     "name": "stdout",
     "output_type": "stream",
     "text": [
      "Model: \"sequential\"\n",
      "_________________________________________________________________\n",
      " Layer (type)                Output Shape              Param #   \n",
      "=================================================================\n",
      " conv2d (Conv2D)             (None, 122, 122, 72)      3600      \n",
      "                                                                 \n",
      " max_pooling2d (MaxPooling2D  (None, 61, 61, 72)       0         \n",
      " )                                                               \n",
      "                                                                 \n",
      " conv2d_1 (Conv2D)           (None, 57, 57, 72)        129672    \n",
      "                                                                 \n",
      " max_pooling2d_1 (MaxPooling  (None, 28, 28, 72)       0         \n",
      " 2D)                                                             \n",
      "                                                                 \n",
      " conv2d_2 (Conv2D)           (None, 26, 26, 72)        46728     \n",
      "                                                                 \n",
      " max_pooling2d_2 (MaxPooling  (None, 13, 13, 72)       0         \n",
      " 2D)                                                             \n",
      "                                                                 \n",
      " flatten (Flatten)           (None, 12168)             0         \n",
      "                                                                 \n",
      " dense (Dense)               (None, 1024)              12461056  \n",
      "                                                                 \n",
      " dropout (Dropout)           (None, 1024)              0         \n",
      "                                                                 \n",
      " dense_1 (Dense)             (None, 1024)              1049600   \n",
      "                                                                 \n",
      " dropout_1 (Dropout)         (None, 1024)              0         \n",
      "                                                                 \n",
      " dense_2 (Dense)             (None, 2048)              2099200   \n",
      "                                                                 \n",
      " dropout_2 (Dropout)         (None, 2048)              0         \n",
      "                                                                 \n",
      " dense_3 (Dense)             (None, 4)                 8196      \n",
      "                                                                 \n",
      "=================================================================\n",
      "Total params: 15,798,052\n",
      "Trainable params: 15,798,052\n",
      "Non-trainable params: 0\n",
      "_________________________________________________________________\n"
     ]
    }
   ],
   "source": [
    "cnn_model.summary()"
   ]
  },
  {
   "cell_type": "code",
   "execution_count": 9,
   "metadata": {},
   "outputs": [
    {
     "name": "stdout",
     "output_type": "stream",
     "text": [
      "Epoch 1/250\n",
      "22/22 - 51s - loss: 2.4844 - accuracy: 0.4391 - val_loss: 0.6216 - val_accuracy: 0.9136 - 51s/epoch - 2s/step\n",
      "Epoch 2/250\n",
      "22/22 - 49s - loss: 0.5836 - accuracy: 0.7970 - val_loss: 0.1563 - val_accuracy: 0.9508 - 49s/epoch - 2s/step\n",
      "Epoch 3/250\n",
      "22/22 - 49s - loss: 0.2051 - accuracy: 0.9265 - val_loss: 0.0507 - val_accuracy: 0.9763 - 49s/epoch - 2s/step\n",
      "Epoch 4/250\n",
      "22/22 - 50s - loss: 0.0944 - accuracy: 0.9640 - val_loss: 0.0191 - val_accuracy: 0.9966 - 50s/epoch - 2s/step\n",
      "Epoch 5/250\n",
      "22/22 - 49s - loss: 0.0523 - accuracy: 0.9811 - val_loss: 0.0064 - val_accuracy: 1.0000 - 49s/epoch - 2s/step\n",
      "Epoch 6/250\n",
      "22/22 - 49s - loss: 0.0432 - accuracy: 0.9873 - val_loss: 0.0063 - val_accuracy: 0.9983 - 49s/epoch - 2s/step\n",
      "Epoch 7/250\n",
      "22/22 - 49s - loss: 0.0241 - accuracy: 0.9924 - val_loss: 0.0039 - val_accuracy: 1.0000 - 49s/epoch - 2s/step\n",
      "Epoch 8/250\n",
      "22/22 - 49s - loss: 0.0184 - accuracy: 0.9949 - val_loss: 0.0026 - val_accuracy: 1.0000 - 49s/epoch - 2s/step\n",
      "Epoch 9/250\n",
      "22/22 - 49s - loss: 0.0169 - accuracy: 0.9953 - val_loss: 0.0017 - val_accuracy: 1.0000 - 49s/epoch - 2s/step\n",
      "Epoch 10/250\n",
      "22/22 - 49s - loss: 0.0146 - accuracy: 0.9956 - val_loss: 0.0017 - val_accuracy: 1.0000 - 49s/epoch - 2s/step\n",
      "Epoch 11/250\n",
      "22/22 - 49s - loss: 0.0071 - accuracy: 0.9978 - val_loss: 0.0048 - val_accuracy: 0.9983 - 49s/epoch - 2s/step\n",
      "Epoch 12/250\n",
      "22/22 - 49s - loss: 0.0070 - accuracy: 0.9985 - val_loss: 0.0016 - val_accuracy: 1.0000 - 49s/epoch - 2s/step\n",
      "Epoch 13/250\n",
      "22/22 - 50s - loss: 0.0061 - accuracy: 0.9982 - val_loss: 0.0016 - val_accuracy: 1.0000 - 50s/epoch - 2s/step\n",
      "Epoch 14/250\n",
      "22/22 - 50s - loss: 0.0030 - accuracy: 0.9996 - val_loss: 0.0028 - val_accuracy: 0.9983 - 50s/epoch - 2s/step\n",
      "Epoch 15/250\n",
      "22/22 - 50s - loss: 0.0100 - accuracy: 0.9975 - val_loss: 0.0015 - val_accuracy: 1.0000 - 50s/epoch - 2s/step\n",
      "Epoch 16/250\n",
      "22/22 - 49s - loss: 0.0058 - accuracy: 0.9975 - val_loss: 0.0023 - val_accuracy: 1.0000 - 49s/epoch - 2s/step\n",
      "Epoch 17/250\n",
      "22/22 - 49s - loss: 0.0075 - accuracy: 0.9978 - val_loss: 0.0011 - val_accuracy: 1.0000 - 49s/epoch - 2s/step\n",
      "Epoch 18/250\n",
      "22/22 - 50s - loss: 0.0065 - accuracy: 0.9985 - val_loss: 0.0029 - val_accuracy: 0.9983 - 50s/epoch - 2s/step\n",
      "Epoch 19/250\n",
      "22/22 - 49s - loss: 0.0027 - accuracy: 0.9996 - val_loss: 8.5492e-04 - val_accuracy: 1.0000 - 49s/epoch - 2s/step\n",
      "Epoch 20/250\n",
      "22/22 - 49s - loss: 0.0034 - accuracy: 0.9989 - val_loss: 0.0011 - val_accuracy: 1.0000 - 49s/epoch - 2s/step\n",
      "Epoch 21/250\n",
      "22/22 - 49s - loss: 0.0014 - accuracy: 1.0000 - val_loss: 3.1325e-04 - val_accuracy: 1.0000 - 49s/epoch - 2s/step\n",
      "Epoch 22/250\n",
      "22/22 - 49s - loss: 8.6529e-04 - accuracy: 0.9996 - val_loss: 2.9514e-04 - val_accuracy: 1.0000 - 49s/epoch - 2s/step\n",
      "Epoch 23/250\n",
      "22/22 - 49s - loss: 9.1247e-04 - accuracy: 1.0000 - val_loss: 3.8602e-04 - val_accuracy: 1.0000 - 49s/epoch - 2s/step\n",
      "Epoch 24/250\n",
      "22/22 - 49s - loss: 5.8298e-04 - accuracy: 1.0000 - val_loss: 2.8612e-04 - val_accuracy: 1.0000 - 49s/epoch - 2s/step\n",
      "Epoch 25/250\n",
      "22/22 - 49s - loss: 0.0011 - accuracy: 1.0000 - val_loss: 1.6876e-04 - val_accuracy: 1.0000 - 49s/epoch - 2s/step\n",
      "Epoch 26/250\n",
      "22/22 - 48s - loss: 4.6199e-04 - accuracy: 1.0000 - val_loss: 9.7495e-04 - val_accuracy: 1.0000 - 48s/epoch - 2s/step\n",
      "Epoch 27/250\n",
      "22/22 - 49s - loss: 0.0018 - accuracy: 0.9993 - val_loss: 3.2164e-04 - val_accuracy: 1.0000 - 49s/epoch - 2s/step\n",
      "Epoch 28/250\n",
      "22/22 - 49s - loss: 0.0018 - accuracy: 0.9996 - val_loss: 9.9484e-04 - val_accuracy: 1.0000 - 49s/epoch - 2s/step\n",
      "Epoch 29/250\n",
      "22/22 - 49s - loss: 8.4196e-04 - accuracy: 0.9996 - val_loss: 0.0011 - val_accuracy: 1.0000 - 49s/epoch - 2s/step\n",
      "Epoch 30/250\n",
      "22/22 - 49s - loss: 4.1455e-04 - accuracy: 1.0000 - val_loss: 0.0010 - val_accuracy: 1.0000 - 49s/epoch - 2s/step\n"
     ]
    }
   ],
   "source": [
    "from keras.callbacks import EarlyStopping\n",
    "early_stopping = EarlyStopping(monitor='val_loss', patience=5)\n",
    "\n",
    "history=cnn_model.fit(\n",
    "    np.array(X_train), np.array(y_train), batch_size=128,\n",
    "    epochs=250, verbose=2,\n",
    "    validation_data=(np.array(X_valid),np.array(y_valid)),\n",
    "    callbacks=[early_stopping]\n",
    ")"
   ]
  },
  {
   "cell_type": "code",
   "execution_count": 12,
   "metadata": {},
   "outputs": [
    {
     "name": "stdout",
     "output_type": "stream",
     "text": [
      "test los 0.0001\n",
      "test acc 1.0000\n"
     ]
    }
   ],
   "source": [
    "scor = cnn_model.evaluate( np.array(X_test),  np.array(y_test), verbose=0)\n",
    "\n",
    "print('test los {:.4f}'.format(scor[0]))\n",
    "print('test acc {:.4f}'.format(scor[1]))"
   ]
  },
  {
   "cell_type": "code",
   "execution_count": 13,
   "metadata": {},
   "outputs": [
    {
     "name": "stdout",
     "output_type": "stream",
     "text": [
      "dict_keys(['loss', 'accuracy', 'val_loss', 'val_accuracy'])\n"
     ]
    },
    {
     "data": {
      "image/png": "[encoded data removed]",
      "text/plain": [
       "<Figure size 640x480 with 1 Axes>"
      ]
     },
     "metadata": {},
     "output_type": "display_data"
    },
    {
     "data": {
      "image/png": "[encoded data removed]",
      "text/plain": [
       "<Figure size 640x480 with 1 Axes>"
      ]
     },
     "metadata": {},
     "output_type": "display_data"
    }
   ],
   "source": [
    "# list all data in history\n",
    "print(history.history.keys())\n",
    "# summarize history for accuracy\n",
    "plt.plot(history.history['accuracy'])\n",
    "plt.plot(history.history['val_accuracy'])\n",
    "plt.title('model accuracy')\n",
    "plt.ylabel('accuracy')\n",
    "plt.xlabel('epoch')\n",
    "plt.legend(['train', 'val'], loc='upper left')\n",
    "plt.show()\n",
    "# summarize history for loss\n",
    "plt.plot(history.history['loss'])\n",
    "plt.plot(history.history['val_loss'])\n",
    "plt.title('model loss')\n",
    "plt.ylabel('loss')\n",
    "plt.xlabel('epoch')\n",
    "plt.legend(['train', 'val'], loc='upper left')\n",
    "plt.show()"
   ]
  },
  {
   "cell_type": "code",
   "execution_count": 17,
   "metadata": {},
   "outputs": [
    {
     "name": "stdout",
     "output_type": "stream",
     "text": [
      "14/14 [==============================] - 1s 95ms/step\n",
      "[[9.9999994e-01 3.0113139e-12 7.4006599e-12]\n",
      " [5.8473316e-11 9.9999994e-01 1.4973582e-10]\n",
      " [9.9999994e-01 2.2453628e-10 5.2665206e-10]\n",
      " ...\n",
      " [1.0000000e+00 1.8674277e-10 1.8980760e-11]\n",
      " [2.8749539e-10 1.0000000e+00 3.5295709e-09]\n",
      " [8.5853667e-14 5.9192104e-13 1.0000000e+00]]\n",
      "[0 1 0 1 2 1 1 2 0 2 1 0 1 0 1 1 0 2 0 2 1 1 1 1 1 2 0 1 2 1 2 1 1 1 1 2 1\n",
      " 2 2 0 1 1 1 1 2 1 1 1 2 2 1 1 2 0 1 2 1 1 1 1 1 0 0 2 1 1 0 0 2 0 1 0 1 1\n",
      " 2 1 2 0 1 0 1 2 1 1 1 2 2 1 2 1 1 0 0 1 1 1 1 1 0 0 0 1 1 1 1 2 0 2 0 0 0\n",
      " 0 0 0 0 2 1 2 2 0 2 0 0 0 1 0 1 1 2 1 1 2 2 2 2 2 0 2 2 1 2 2 2 2 1 1 0 1\n",
      " 2 1 1 2 0 2 2 0 2 1 1 0 1 2 2 0 2 2 2 0 1 2 1 0 1 1 0 1 1 0 1 1 2 1 1 2 0\n",
      " 2 2 0 2 1 0 0 1 0 0 0 2 1 0 1 0 0 0 2 0 1 1 0 2 0 2 2 0 1 0 1 0 0 1 1 1 2\n",
      " 1 0 1 2 2 2 1 1 1 2 2 2 1 0 1 0 0 1 2 1 1 1 2 2 1 2 0 1 0 0 2 0 1 0 0 0 1\n",
      " 0 1 0 0 0 2 1 1 1 2 2 1 0 1 1 0 2 2 1 1 1 2 2 2 0 0 2 0 2 1 0 0 1 0 0 1 1\n",
      " 0 1 0 2 2 0 2 0 2 2 1 0 2 2 0 0 2 1 0 0 1 0 0 0 1 0 0 0 1 0 1 2 2 0 1 0 0\n",
      " 2 2 2 0 1 1 1 0 1 1 0 1 1 1 0 1 1 2 0 2 1 0 1 2 1 1 0 0 1 0 0 0 2 1 0 2 0\n",
      " 2 2 2 0 2 0 1 0 0 2 0 2 1 2 1 0 0 2 2 2 0 1 1 1 1 0 1 2 2 0 2 1 2 0 1 0 0\n",
      " 0 1 1 1 1 0 1 2 1 0 0 2 2 0 2 0 2 2 0 0 0 2 2 1 0 0 1 2]\n"
     ]
    }
   ],
   "source": [
    "predicted = np.array(cnn_model.predict(X_test))\n",
    "ynew = np.argmax(predicted, axis=1)\n",
    "\n",
    "print(predicted)\n",
    "print(y_test)"
   ]
  },
  {
   "cell_type": "code",
   "execution_count": 18,
   "metadata": {},
   "outputs": [
    {
     "name": "stdout",
     "output_type": "stream",
     "text": [
      "accuracy : \n",
      "0.9977011494252873\n",
      "Confusion matrix, without normalization\n",
      "[[143   1   0]\n",
      " [  0 165   0]\n",
      " [  0   0 126]]\n",
      "Confusion matrix, without normalization\n"
     ]
    },
    {
     "data": {
      "image/png": "[encoded data removed]",
      "text/plain": [
       "<Figure size 640x480 with 2 Axes>"
      ]
     },
     "metadata": {},
     "output_type": "display_data"
    },
    {
     "name": "stdout",
     "output_type": "stream",
     "text": [
      "Confusion matrix, without normalization\n"
     ]
    },
    {
     "name": "stderr",
     "output_type": "stream",
     "text": [
      "/tmp/ipykernel_37358/2850457876.py:26: UserWarning: Attempting to set identical low and high xlims makes transformation singular; automatically expanding.\n",
      "  plt.imshow(cm, interpolation='nearest', cmap=cmap)\n",
      "/tmp/ipykernel_37358/2850457876.py:26: UserWarning: Attempting to set identical low and high ylims makes transformation singular; automatically expanding.\n",
      "  plt.imshow(cm, interpolation='nearest', cmap=cmap)\n"
     ]
    },
    {
     "ename": "ValueError",
     "evalue": "zero-size array to reduction operation maximum which has no identity",
     "output_type": "error",
     "traceback": [
      "\u001b[0;31m---------------------------------------------------------------------------\u001b[0m",
      "\u001b[0;31mValueError\u001b[0m                                Traceback (most recent call last)",
      "Cell \u001b[0;32mIn[18], line 54\u001b[0m\n\u001b[1;32m     50\u001b[0m plot_confusion_matrix(cnf_matrix[\u001b[39m1\u001b[39m:\u001b[39m10\u001b[39m,\u001b[39m1\u001b[39m:\u001b[39m10\u001b[39m], classes\u001b[39m=\u001b[39m[\u001b[39m0\u001b[39m,\u001b[39m1\u001b[39m,\u001b[39m2\u001b[39m,\u001b[39m3\u001b[39m,\u001b[39m4\u001b[39m,\u001b[39m5\u001b[39m,\u001b[39m6\u001b[39m,\u001b[39m7\u001b[39m,\u001b[39m8\u001b[39m,\u001b[39m9\u001b[39m],\n\u001b[1;32m     51\u001b[0m                       title\u001b[39m=\u001b[39m\u001b[39m'\u001b[39m\u001b[39mConfusion matrix, without normalization\u001b[39m\u001b[39m'\u001b[39m)\n\u001b[1;32m     53\u001b[0m plt\u001b[39m.\u001b[39mfigure()\n\u001b[0;32m---> 54\u001b[0m plot_confusion_matrix(cnf_matrix[\u001b[39m11\u001b[39;49m:\u001b[39m20\u001b[39;49m,\u001b[39m11\u001b[39;49m:\u001b[39m20\u001b[39;49m], classes\u001b[39m=\u001b[39;49m[\u001b[39m10\u001b[39;49m,\u001b[39m11\u001b[39;49m,\u001b[39m12\u001b[39;49m,\u001b[39m13\u001b[39;49m,\u001b[39m14\u001b[39;49m,\u001b[39m15\u001b[39;49m,\u001b[39m16\u001b[39;49m,\u001b[39m17\u001b[39;49m,\u001b[39m18\u001b[39;49m,\u001b[39m19\u001b[39;49m],\n\u001b[1;32m     55\u001b[0m                       title\u001b[39m=\u001b[39;49m\u001b[39m'\u001b[39;49m\u001b[39mConfusion matrix, without normalization\u001b[39;49m\u001b[39m'\u001b[39;49m)\n\u001b[1;32m     57\u001b[0m \u001b[39mprint\u001b[39m(\u001b[39m\"\u001b[39m\u001b[39mConfusion matrix:\u001b[39m\u001b[39m\\n\u001b[39;00m\u001b[39m%s\u001b[39;00m\u001b[39m\"\u001b[39m \u001b[39m%\u001b[39m confusion_matrix(np\u001b[39m.\u001b[39marray(y_test), ynew))\n\u001b[1;32m     58\u001b[0m \u001b[39mprint\u001b[39m(classification_report(np\u001b[39m.\u001b[39marray(y_test), ynew))\n",
      "Cell \u001b[0;32mIn[18], line 34\u001b[0m, in \u001b[0;36mplot_confusion_matrix\u001b[0;34m(cm, classes, normalize, title, cmap)\u001b[0m\n\u001b[1;32m     31\u001b[0m plt\u001b[39m.\u001b[39myticks(tick_marks, classes)\n\u001b[1;32m     33\u001b[0m fmt \u001b[39m=\u001b[39m \u001b[39m'\u001b[39m\u001b[39m.2f\u001b[39m\u001b[39m'\u001b[39m \u001b[39mif\u001b[39;00m normalize \u001b[39melse\u001b[39;00m \u001b[39m'\u001b[39m\u001b[39md\u001b[39m\u001b[39m'\u001b[39m\n\u001b[0;32m---> 34\u001b[0m thresh \u001b[39m=\u001b[39m cm\u001b[39m.\u001b[39;49mmax() \u001b[39m/\u001b[39m \u001b[39m2.\u001b[39m\n\u001b[1;32m     35\u001b[0m \u001b[39mfor\u001b[39;00m i, j \u001b[39min\u001b[39;00m itertools\u001b[39m.\u001b[39mproduct(\u001b[39mrange\u001b[39m(cm\u001b[39m.\u001b[39mshape[\u001b[39m0\u001b[39m]), \u001b[39mrange\u001b[39m(cm\u001b[39m.\u001b[39mshape[\u001b[39m1\u001b[39m])):\n\u001b[1;32m     36\u001b[0m     plt\u001b[39m.\u001b[39mtext(j, i, \u001b[39mformat\u001b[39m(cm[i, j], fmt),\n\u001b[1;32m     37\u001b[0m              horizontalalignment\u001b[39m=\u001b[39m\u001b[39m\"\u001b[39m\u001b[39mcenter\u001b[39m\u001b[39m\"\u001b[39m,\n\u001b[1;32m     38\u001b[0m              color\u001b[39m=\u001b[39m\u001b[39m\"\u001b[39m\u001b[39mwhite\u001b[39m\u001b[39m\"\u001b[39m \u001b[39mif\u001b[39;00m cm[i, j] \u001b[39m>\u001b[39m thresh \u001b[39melse\u001b[39;00m \u001b[39m\"\u001b[39m\u001b[39mblack\u001b[39m\u001b[39m\"\u001b[39m)\n",
      "File \u001b[0;32m~/.local/lib/python3.10/site-packages/numpy/core/_methods.py:40\u001b[0m, in \u001b[0;36m_amax\u001b[0;34m(a, axis, out, keepdims, initial, where)\u001b[0m\n\u001b[1;32m     38\u001b[0m \u001b[39mdef\u001b[39;00m \u001b[39m_amax\u001b[39m(a, axis\u001b[39m=\u001b[39m\u001b[39mNone\u001b[39;00m, out\u001b[39m=\u001b[39m\u001b[39mNone\u001b[39;00m, keepdims\u001b[39m=\u001b[39m\u001b[39mFalse\u001b[39;00m,\n\u001b[1;32m     39\u001b[0m           initial\u001b[39m=\u001b[39m_NoValue, where\u001b[39m=\u001b[39m\u001b[39mTrue\u001b[39;00m):\n\u001b[0;32m---> 40\u001b[0m     \u001b[39mreturn\u001b[39;00m umr_maximum(a, axis, \u001b[39mNone\u001b[39;49;00m, out, keepdims, initial, where)\n",
      "\u001b[0;31mValueError\u001b[0m: zero-size array to reduction operation maximum which has no identity"
     ]
    },
    {
     "data": {
      "image/png": "[encoded data removed]",
      "text/plain": [
       "<Figure size 640x480 with 2 Axes>"
      ]
     },
     "metadata": {},
     "output_type": "display_data"
    }
   ],
   "source": [
    "Acc=accuracy_score(y_test, ynew)\n",
    "print(\"accuracy : \")\n",
    "print(Acc)\n",
    "#/tn, fp, fn, tp = confusion_matrix(np.array(y_test), ynew).ravel()\n",
    "cnf_matrix=confusion_matrix(np.array(y_test), ynew)\n",
    "\n",
    "y_test1 = np_utils.to_categorical(y_test, 20)\n",
    "\n",
    "\n",
    "\n",
    "def plot_confusion_matrix(cm, classes,\n",
    "                          normalize=False,\n",
    "                          title='Confusion matrix',\n",
    "                          cmap=plt.cm.Blues):\n",
    "    \"\"\"\n",
    "    This function prints and plots the confusion matrix.\n",
    "    Normalization can be applied by setting `normalize=True`.\n",
    "    \"\"\"\n",
    "    if normalize:\n",
    "        cm = cm.astype('float') / cm.sum(axis=1)[:, np.newaxis]\n",
    "        #print(\"Normalized confusion matrix\")\n",
    "    else:\n",
    "        print('Confusion matrix, without normalization')\n",
    "\n",
    "    #print(cm)\n",
    "    plt.imshow(cm, interpolation='nearest', cmap=cmap)\n",
    "    plt.title(title)\n",
    "    plt.colorbar()\n",
    "    tick_marks = np.arange(len(classes))\n",
    "    plt.xticks(tick_marks, classes, rotation=45)\n",
    "    plt.yticks(tick_marks, classes)\n",
    "\n",
    "    fmt = '.2f' if normalize else 'd'\n",
    "    thresh = cm.max() / 2.\n",
    "    for i, j in itertools.product(range(cm.shape[0]), range(cm.shape[1])):\n",
    "        plt.text(j, i, format(cm[i, j], fmt),\n",
    "                 horizontalalignment=\"center\",\n",
    "                 color=\"white\" if cm[i, j] > thresh else \"black\")\n",
    "\n",
    "    plt.tight_layout()\n",
    "    plt.ylabel('True label')\n",
    "    plt.xlabel('Predicted label')\n",
    "    plt.show()\n",
    "\n",
    "\n",
    "print('Confusion matrix, without normalization')\n",
    "print(cnf_matrix)\n",
    "\n",
    "plt.figure()\n",
    "plot_confusion_matrix(cnf_matrix[1:10,1:10], classes=[0,1,2,3,4,5,6,7,8,9],\n",
    "                      title='Confusion matrix, without normalization')\n",
    "\n",
    "plt.figure()\n",
    "plot_confusion_matrix(cnf_matrix[11:20,11:20], classes=[10,11,12,13,14,15,16,17,18,19],\n",
    "                      title='Confusion matrix, without normalization')\n",
    "\n",
    "print(\"Confusion matrix:\\n%s\" % confusion_matrix(np.array(y_test), ynew))\n",
    "print(classification_report(np.array(y_test), ynew))\n"
   ]
  },
  {
   "cell_type": "code",
   "execution_count": 19,
   "metadata": {},
   "outputs": [],
   "source": [
    "from keras.models import load_model\n",
    "\n",
    "# 모델을 저장할 경로와 파일 이름을 지정\n",
    "model_path = 'my_model.h5'\n",
    "\n",
    "# 모델 저장\n",
    "cnn_model.save(model_path)"
   ]
  },
  {
   "attachments": {},
   "cell_type": "markdown",
   "metadata": {},
   "source": [
    "## batch = 256"
   ]
  },
  {
   "cell_type": "code",
   "execution_count": null,
   "metadata": {},
   "outputs": [],
   "source": [
    "#load dataset\n",
    "data = np.load('230503_data.npz') \n",
    "\n",
    "# load the \"Train Images\"\n",
    "x_train = data['trainX']\n",
    "#normalize every image\n",
    "x_train = np.array(x_train,dtype='float32')/255\n",
    "\n",
    "x_test = data['testX']\n",
    "x_test = np.array(x_test,dtype='float32')/255\n",
    "\n",
    "# load the Label of Images\n",
    "y_train= data['trainY']\n",
    "y_test= data['testY']\n",
    "\n",
    "# show the train and test Data format\n",
    "print('x_train : {}'.format(x_train[:]))\n",
    "print('Y-train shape: {}'.format(y_train))\n",
    "print('x_test shape: {}'.format(x_test.shape))"
   ]
  },
  {
   "cell_type": "code",
   "execution_count": null,
   "metadata": {},
   "outputs": [],
   "source": [
    "for key, value in data.items():\n",
    "    print(key, value)"
   ]
  },
  {
   "cell_type": "code",
   "execution_count": null,
   "metadata": {},
   "outputs": [],
   "source": [
    "x_train, x_valid, y_train, y_valid= train_test_split(\n",
    "    x_train, y_train, test_size=.05, random_state=1234,)\n"
   ]
  },
  {
   "cell_type": "code",
   "execution_count": null,
   "metadata": {},
   "outputs": [],
   "source": [
    "im_rows=256\n",
    "im_cols=256\n",
    "batch_size=256\n",
    "im_shape=(im_rows, im_cols, 1)\n",
    "\n",
    "#change the size of images\n",
    "x_train = x_train.reshape(x_train.shape[0], *im_shape)\n",
    "x_test = x_test.reshape(x_test.shape[0], *im_shape)\n",
    "x_valid = x_valid.reshape(x_valid.shape[0], *im_shape)\n",
    "\n",
    "print('x_train shape: {}'.format(y_train.shape[0]))\n",
    "print('x_test shape: {}'.format(y_test.shape))"
   ]
  },
  {
   "cell_type": "code",
   "execution_count": null,
   "metadata": {},
   "outputs": [],
   "source": [
    "#filters= the depth of output image or kernels\n",
    "\n",
    "cnn_model= Sequential([\n",
    "    Conv2D(filters=36, kernel_size=7, activation='relu', input_shape= im_shape),\n",
    "    MaxPooling2D(pool_size=2),\n",
    "    Conv2D(filters=54, kernel_size=5, activation='relu', input_shape= im_shape),\n",
    "    MaxPooling2D(pool_size=2),\n",
    "    Flatten(),\n",
    "    Dense(2024, activation='relu'),\n",
    "     Dropout(0.5),\n",
    "    Dense(1024, activation='relu'),\n",
    "    Dropout(0.5),\n",
    "    Dense(512, activation='relu'),\n",
    "    Dropout(0.5),\n",
    "    #20 is the number of outputs\n",
    "    Dense(20, activation='softmax')  \n",
    "])\n",
    "\n",
    "cnn_model.compile(\n",
    "    loss='sparse_categorical_crossentropy',#'categorical_crossentropy',\n",
    "    optimizer=Adam(lr=0.0001),\n",
    "    metrics=['accuracy']\n",
    ")\n",
    "\n",
    "cnn_model.summary()"
   ]
  },
  {
   "cell_type": "code",
   "execution_count": null,
   "metadata": {},
   "outputs": [],
   "source": [
    "history=cnn_model.fit(\n",
    "    np.array(x_train), np.array(y_train), batch_size=256,\n",
    "    epochs=250, verbose=2,\n",
    "    validation_data=(np.array(x_valid),np.array(y_valid)),\n",
    ")"
   ]
  },
  {
   "cell_type": "code",
   "execution_count": null,
   "metadata": {},
   "outputs": [],
   "source": [
    "scor = cnn_model.evaluate( np.array(x_test),  np.array(y_test), verbose=0)\n",
    "\n",
    "print('test los {:.4f}'.format(scor[0]))\n",
    "print('test acc {:.4f}'.format(scor[1]))"
   ]
  },
  {
   "cell_type": "code",
   "execution_count": null,
   "metadata": {},
   "outputs": [],
   "source": [
    "# list all data in history\n",
    "print(history.history.keys())\n",
    "# summarize history for accuracy\n",
    "plt.plot(history.history['accuracy'])\n",
    "plt.plot(history.history['val_accuracy'])\n",
    "plt.title('model accuracy')\n",
    "plt.ylabel('accuracy')\n",
    "plt.xlabel('epoch')\n",
    "plt.legend(['train', 'test'], loc='upper left')\n",
    "plt.show()\n",
    "# summarize history for loss\n",
    "plt.plot(history.history['loss'])\n",
    "plt.plot(history.history['val_loss'])\n",
    "plt.title('model loss')\n",
    "plt.ylabel('loss')\n",
    "plt.xlabel('epoch')\n",
    "plt.legend(['train', 'test'], loc='upper left')\n",
    "plt.show()"
   ]
  },
  {
   "cell_type": "code",
   "execution_count": null,
   "metadata": {},
   "outputs": [],
   "source": [
    "predicted = np.array(cnn_model.predict(x_test))\n",
    "ynew = np.argmax(predicted, axis=1)\n",
    "\n",
    "print(predicted)\n",
    "print(y_test)"
   ]
  },
  {
   "cell_type": "code",
   "execution_count": null,
   "metadata": {},
   "outputs": [],
   "source": [
    "Acc=accuracy_score(y_test, ynew)\n",
    "print(\"accuracy : \")\n",
    "print(Acc)\n",
    "#/tn, fp, fn, tp = confusion_matrix(np.array(y_test), ynew).ravel()\n",
    "cnf_matrix=confusion_matrix(np.array(y_test), ynew)\n",
    "\n",
    "y_test1 = np_utils.to_categorical(y_test, 20)\n",
    "\n",
    "\n",
    "\n",
    "def plot_confusion_matrix(cm, classes,\n",
    "                          normalize=False,\n",
    "                          title='Confusion matrix',\n",
    "                          cmap=plt.cm.Blues):\n",
    "    \"\"\"\n",
    "    This function prints and plots the confusion matrix.\n",
    "    Normalization can be applied by setting `normalize=True`.\n",
    "    \"\"\"\n",
    "    if normalize:\n",
    "        cm = cm.astype('float') / cm.sum(axis=1)[:, np.newaxis]\n",
    "        #print(\"Normalized confusion matrix\")\n",
    "    else:\n",
    "        print('Confusion matrix, without normalization')\n",
    "\n",
    "    #print(cm)\n",
    "    plt.imshow(cm, interpolation='nearest', cmap=cmap)\n",
    "    plt.title(title)\n",
    "    plt.colorbar()\n",
    "    tick_marks = np.arange(len(classes))\n",
    "    plt.xticks(tick_marks, classes, rotation=45)\n",
    "    plt.yticks(tick_marks, classes)\n",
    "\n",
    "    fmt = '.2f' if normalize else 'd'\n",
    "    thresh = cm.max() / 2.\n",
    "    for i, j in itertools.product(range(cm.shape[0]), range(cm.shape[1])):\n",
    "        plt.text(j, i, format(cm[i, j], fmt),\n",
    "                 horizontalalignment=\"center\",\n",
    "                 color=\"white\" if cm[i, j] > thresh else \"black\")\n",
    "\n",
    "    plt.tight_layout()\n",
    "    plt.ylabel('True label')\n",
    "    plt.xlabel('Predicted label')\n",
    "    plt.show()\n",
    "\n",
    "\n",
    "print('Confusion matrix, without normalization')\n",
    "print(cnf_matrix)\n",
    "\n",
    "plt.figure()\n",
    "plot_confusion_matrix(cnf_matrix[1:10,1:10], classes=[0,1,2,3,4,5,6,7,8,9],\n",
    "                      title='Confusion matrix, without normalization')\n",
    "\n",
    "plt.figure()\n",
    "plot_confusion_matrix(cnf_matrix[11:20,11:20], classes=[10,11,12,13,14,15,16,17,18,19],\n",
    "                      title='Confusion matrix, without normalization')\n",
    "\n",
    "print(\"Confusion matrix:\\n%s\" % confusion_matrix(np.array(y_test), ynew))\n",
    "print(classification_report(np.array(y_test), ynew))"
   ]
  },
  {
   "attachments": {},
   "cell_type": "markdown",
   "metadata": {},
   "source": [
    "## batch = 512"
   ]
  },
  {
   "cell_type": "code",
   "execution_count": null,
   "metadata": {},
   "outputs": [],
   "source": [
    "#load dataset\n",
    "data = np.load('230503_data.npz') \n",
    "\n",
    "# load the \"Train Images\"\n",
    "x_train = data['trainX']\n",
    "#normalize every image\n",
    "x_train = np.array(x_train,dtype='float32')/255\n",
    "\n",
    "x_test = data['testX']\n",
    "x_test = np.array(x_test,dtype='float32')/255\n",
    "\n",
    "# load the Label of Images\n",
    "y_train= data['trainY']\n",
    "y_test= data['testY']\n",
    "\n",
    "# show the train and test Data format\n",
    "print('x_train : {}'.format(x_train[:]))\n",
    "print('Y-train shape: {}'.format(y_train))\n",
    "print('x_test shape: {}'.format(x_test.shape))"
   ]
  },
  {
   "cell_type": "code",
   "execution_count": null,
   "metadata": {},
   "outputs": [],
   "source": [
    "for key, value in data.items():\n",
    "    print(key, value)"
   ]
  },
  {
   "cell_type": "code",
   "execution_count": null,
   "metadata": {},
   "outputs": [],
   "source": [
    "x_train, x_valid, y_train, y_valid= train_test_split(\n",
    "    x_train, y_train, test_size=.05, random_state=1234,)\n"
   ]
  },
  {
   "cell_type": "code",
   "execution_count": null,
   "metadata": {},
   "outputs": [],
   "source": [
    "im_rows=256\n",
    "im_cols=256\n",
    "batch_size=512\n",
    "im_shape=(im_rows, im_cols, 1)\n",
    "\n",
    "#change the size of images\n",
    "x_train = x_train.reshape(x_train.shape[0], *im_shape)\n",
    "x_test = x_test.reshape(x_test.shape[0], *im_shape)\n",
    "x_valid = x_valid.reshape(x_valid.shape[0], *im_shape)\n",
    "\n",
    "print('x_train shape: {}'.format(y_train.shape[0]))\n",
    "print('x_test shape: {}'.format(y_test.shape))"
   ]
  },
  {
   "cell_type": "code",
   "execution_count": null,
   "metadata": {},
   "outputs": [],
   "source": [
    "#filters= the depth of output image or kernels\n",
    "\n",
    "cnn_model= Sequential([\n",
    "    Conv2D(filters=36, kernel_size=7, activation='relu', input_shape= im_shape),\n",
    "    MaxPooling2D(pool_size=2),\n",
    "    Conv2D(filters=54, kernel_size=5, activation='relu', input_shape= im_shape),\n",
    "    MaxPooling2D(pool_size=2),\n",
    "    Flatten(),\n",
    "    Dense(2024, activation='relu'),\n",
    "     Dropout(0.5),\n",
    "    Dense(1024, activation='relu'),\n",
    "    Dropout(0.5),\n",
    "    Dense(512, activation='relu'),\n",
    "    Dropout(0.5),\n",
    "    #20 is the number of outputs\n",
    "    Dense(20, activation='softmax')  \n",
    "])\n",
    "\n",
    "cnn_model.compile(\n",
    "    loss='sparse_categorical_crossentropy',#'categorical_crossentropy',\n",
    "    optimizer=Adam(lr=0.0001),\n",
    "    metrics=['accuracy']\n",
    ")\n",
    "\n",
    "cnn_model.summary()"
   ]
  },
  {
   "cell_type": "code",
   "execution_count": null,
   "metadata": {},
   "outputs": [],
   "source": [
    "history=cnn_model.fit(\n",
    "    np.array(x_train), np.array(y_train), batch_size=512,\n",
    "    epochs=250, verbose=2,\n",
    "    validation_data=(np.array(x_valid),np.array(y_valid)),\n",
    ")"
   ]
  },
  {
   "cell_type": "code",
   "execution_count": null,
   "metadata": {},
   "outputs": [],
   "source": [
    "scor = cnn_model.evaluate( np.array(x_test),  np.array(y_test), verbose=0)\n",
    "\n",
    "print('test los {:.4f}'.format(scor[0]))\n",
    "print('test acc {:.4f}'.format(scor[1]))"
   ]
  },
  {
   "cell_type": "code",
   "execution_count": null,
   "metadata": {},
   "outputs": [],
   "source": [
    "# list all data in history\n",
    "print(history.history.keys())\n",
    "# summarize history for accuracy\n",
    "plt.plot(history.history['accuracy'])\n",
    "plt.plot(history.history['val_accuracy'])\n",
    "plt.title('model accuracy')\n",
    "plt.ylabel('accuracy')\n",
    "plt.xlabel('epoch')\n",
    "plt.legend(['train', 'test'], loc='upper left')\n",
    "plt.show()\n",
    "# summarize history for loss\n",
    "plt.plot(history.history['loss'])\n",
    "plt.plot(history.history['val_loss'])\n",
    "plt.title('model loss')\n",
    "plt.ylabel('loss')\n",
    "plt.xlabel('epoch')\n",
    "plt.legend(['train', 'test'], loc='upper left')\n",
    "plt.show()"
   ]
  },
  {
   "cell_type": "code",
   "execution_count": null,
   "metadata": {},
   "outputs": [],
   "source": [
    "predicted = np.array(cnn_model.predict(x_test))\n",
    "ynew = np.argmax(predicted, axis=1)\n",
    "\n",
    "print(predicted)\n",
    "print(y_test)"
   ]
  },
  {
   "cell_type": "code",
   "execution_count": null,
   "metadata": {},
   "outputs": [],
   "source": [
    "Acc=accuracy_score(y_test, ynew)\n",
    "print(\"accuracy : \")\n",
    "print(Acc)\n",
    "#/tn, fp, fn, tp = confusion_matrix(np.array(y_test), ynew).ravel()\n",
    "cnf_matrix=confusion_matrix(np.array(y_test), ynew)\n",
    "\n",
    "y_test1 = np_utils.to_categorical(y_test, 20)\n",
    "\n",
    "\n",
    "\n",
    "def plot_confusion_matrix(cm, classes,\n",
    "                          normalize=False,\n",
    "                          title='Confusion matrix',\n",
    "                          cmap=plt.cm.Blues):\n",
    "    \"\"\"\n",
    "    This function prints and plots the confusion matrix.\n",
    "    Normalization can be applied by setting `normalize=True`.\n",
    "    \"\"\"\n",
    "    if normalize:\n",
    "        cm = cm.astype('float') / cm.sum(axis=1)[:, np.newaxis]\n",
    "        #print(\"Normalized confusion matrix\")\n",
    "    else:\n",
    "        print('Confusion matrix, without normalization')\n",
    "\n",
    "    #print(cm)\n",
    "    plt.imshow(cm, interpolation='nearest', cmap=cmap)\n",
    "    plt.title(title)\n",
    "    plt.colorbar()\n",
    "    tick_marks = np.arange(len(classes))\n",
    "    plt.xticks(tick_marks, classes, rotation=45)\n",
    "    plt.yticks(tick_marks, classes)\n",
    "\n",
    "    fmt = '.2f' if normalize else 'd'\n",
    "    thresh = cm.max() / 2.\n",
    "    for i, j in itertools.product(range(cm.shape[0]), range(cm.shape[1])):\n",
    "        plt.text(j, i, format(cm[i, j], fmt),\n",
    "                 horizontalalignment=\"center\",\n",
    "                 color=\"white\" if cm[i, j] > thresh else \"black\")\n",
    "\n",
    "    plt.tight_layout()\n",
    "    plt.ylabel('True label')\n",
    "    plt.xlabel('Predicted label')\n",
    "    plt.show()\n",
    "\n",
    "\n",
    "print('Confusion matrix, without normalization')\n",
    "print(cnf_matrix)\n",
    "\n",
    "plt.figure()\n",
    "plot_confusion_matrix(cnf_matrix[1:10,1:10], classes=[0,1,2,3,4,5,6,7,8,9],\n",
    "                      title='Confusion matrix, without normalization')\n",
    "\n",
    "plt.figure()\n",
    "plot_confusion_matrix(cnf_matrix[11:20,11:20], classes=[10,11,12,13,14,15,16,17,18,19],\n",
    "                      title='Confusion matrix, without normalization')\n",
    "\n",
    "print(\"Confusion matrix:\\n%s\" % confusion_matrix(np.array(y_test), ynew))\n",
    "print(classification_report(np.array(y_test), ynew))"
   ]
  },
  {
   "cell_type": "code",
   "execution_count": null,
   "metadata": {},
   "outputs": [],
   "source": []
  },
  {
   "cell_type": "code",
   "execution_count": null,
   "metadata": {},
   "outputs": [],
   "source": []
  }
 ],
 "metadata": {
  "kernelspec": {
   "display_name": "base",
   "language": "python",
   "name": "python3"
  },
  "language_info": {
   "codemirror_mode": {
    "name": "ipython",
    "version": 3
   },
   "file_extension": ".py",
   "mimetype": "text/x-python",
   "name": "python",
   "nbconvert_exporter": "python",
   "pygments_lexer": "ipython3",
   "version": "3.10.6"
  },
  "orig_nbformat": 4
 },
 "nbformat": 4,
 "nbformat_minor": 2
}
